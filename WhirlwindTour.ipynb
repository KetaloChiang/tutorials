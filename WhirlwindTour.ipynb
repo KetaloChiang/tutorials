{
 "cells": [
  {
   "cell_type": "markdown",
   "metadata": {},
   "source": [
    "# Whirlwind tour of the nelpy object model\n",
    "`WhirlwindTour.ipynb`"
   ]
  },
  {
   "cell_type": "markdown",
   "metadata": {},
   "source": [
    "## Overview"
   ]
  },
  {
   "cell_type": "code",
   "execution_count": null,
   "metadata": {},
   "outputs": [],
   "source": [
    "EpochArray (time)\n",
    "AnalogSignalArray (time)\n",
    "PositionArray (time)\n",
    "SpikeTrainArray (time)\n",
    "BinnedSpikeTrainArray (time)\n",
    "EventArray (time)\n",
    "ValueEventArray (time)\n",
    "StatefulEventArray (time)\n",
    "WrappedPositionArray (time) [wrapy] [RinglikeTrajectory?]"
   ]
  },
  {
   "cell_type": "code",
   "execution_count": 42,
   "metadata": {},
   "outputs": [],
   "source": [
    "import numpy as np\n",
    "import nelpy as nel"
   ]
  },
  {
   "cell_type": "markdown",
   "metadata": {},
   "source": [
    "## EpochArray"
   ]
  },
  {
   "cell_type": "markdown",
   "metadata": {},
   "source": [
    "The `EpochArray` is arguably _the_ most fundamental data object in nelpy. It contains a collection of intervals, and more specifically _temporal_ intervals, hence the name `EpochArray`. All the core temporal nelpy objects (including the `EpochArray` itself) have underlying `EpochArray`s, specifying where (in time) those objects are defined. Usually, this attribute is referred to as the object's _support_ (similar to a mathematical function's support, but specifying where the function is defined, rather than where it is nonzero).\n",
    "\n",
    "All intervals are half-open intervals of the form $[a, b)$, and a list of these can be accessed through the `.time` attribute.\n",
    "\n",
    "Here are a few simple examples:\n",
    "\n",
    "```python\n",
    "ep = nel.EpochArray(0, 5)                       # EpochArray with a single epoch\n",
    "ep = nel.EpochArray([[0, 5], [5, 15]])          # EpochArray with multiple non-overlapping epochs\n",
    "ep = nel.EpochArray([[0, 5], [2, 7], [4, 10]])  # EpochArray with multiple, overlapping epochs\n",
    "ep = nel.EpochArray([0, 2, 5, 10], duration=2)  # EpochArray with four epochs, each of duration 2 seconds\n",
    "```"
   ]
  },
  {
   "cell_type": "markdown",
   "metadata": {},
   "source": [
    "## AnalogSignalArray"
   ]
  },
  {
   "cell_type": "markdown",
   "metadata": {},
   "source": [
    "The `AnalogSignalArray` is used to store fairly-regularly-sampled temporal signals. Ideally the signals should be sampled regularly, but many of the methods handle irregularly sampled data gracefully, and moreover, the `AnalogSignalArray` makes it easy to sanitize an irregularly sampled signal into an easier-to-work-with regularly sampled signal.\n",
    "\n",
    "Fundamentally, an `AnalogSignalArray` contains a `.time` attribute, and a `.data` attribute, corresponding to the (n,) sample timestamps, in seconds, and the (m, n) signal values (n samples for each of m signals).\n",
    "\n",
    "```python\n",
    "# create an AnalogSignalArray with a single signal, with four samples:\n",
    "asa = nel.AnalogSignalArray(data=[2, 4, 5, 6])\n",
    "\n",
    "# create an AnalogSignalArray with a single signal, with four samples:\n",
    "asa = nel.AnalogSignalArray(timestamps=[0, 1, 2, 3],\n",
    "                            data=[2, 4, 5, 6])\n",
    "\n",
    "# create an AnalogSignalArray with two signals, each with four samples:\n",
    "asa = nel.AnalogSignalArray(timestamps=[0, 1, 2, 3],\n",
    "                            data=[[2, 4, 5, 6], [5, 4, 3, 2]])\n",
    "\n",
    "# create an AnalogSignalArray with a single signal, with four samples:\n",
    "asa = nel.AnalogSignalArray(timestamps=[0, 1, 2, 3],\n",
    "                            data=[2, 4, 5, 6])\n",
    "\n",
    "# create an AnalogSignalArray with a single signal, with four samples, \n",
    "# and an explicit support:\n",
    "asa = nel.AnalogSignalArray(timestamps=[0, 1, 2, 3],\n",
    "                            data=[2, 4, 5, 6],\n",
    "                            support=nel.EpochArray(0,4))\n",
    "\n",
    "# create an AnalogSignalArray with a single signal, with four samples, \n",
    "# and an explicit sampling rate:\n",
    "asa = nel.AnalogSignalArray(timestamps=[0, 1, 2, 3],\n",
    "                            data=[2, 4, 5, 6],\n",
    "                            fs=1)\n",
    "\n",
    "# create an AnalogSignalArray with a single signal, with ten samples:\n",
    "asa = nel.AnalogSignalArray(timestamps=[0, 1, 2, 3, 10, 11, 12, 13, 14, 15],\n",
    "                            data=[1, 1, 1, 1, 2, 2, 2, 2, 2, 2])\n",
    "\n",
    "# npl.plot(asa, marker='.')\n",
    "```"
   ]
  },
  {
   "cell_type": "code",
   "execution_count": 41,
   "metadata": {},
   "outputs": [
    {
     "name": "stderr",
     "output_type": "stream",
     "text": [
      "d:\\dropbox\\code\\nelpy\\nelpy\\core\\_analogsignalarray.py:396: UserWarning: creating support from time and sampling rate, fs!\n",
      "d:\\dropbox\\code\\nelpy\\nelpy\\core\\_analogsignalarray.py:227: UserWarning: fs was not specified, so we try to estimate it from the data...\n",
      "d:\\dropbox\\code\\nelpy\\nelpy\\core\\_analogsignalarray.py:229: UserWarning: fs was estimated to be 1.0 Hz\n"
     ]
    }
   ],
   "source": [
    "# PositionArray\n",
    "xcoords = [0, 1, 2, 3, 4]\n",
    "ycoords = [2, 3, 3, 2, 3]\n",
    "pos = nel.PositionArray([xcoords, ycoords])  # same syntax as AnalogSignalArray\n",
    "# print(pos.data)\n",
    "# print(pos.x)\n",
    "# print(pos.y)\n",
    "\n",
    "# SpikeTrainArray\n",
    "# BinnedSpikeTrainArray\n",
    "# EventArray\n",
    "# ValueEventArray\n",
    "# StatefulEventArray\n",
    "# WrappedPositionArray [RinglikeTrajectory?]\n",
    "# TuningCurve1D\n",
    "# TuningCurve2D"
   ]
  },
  {
   "cell_type": "code",
   "execution_count": 37,
   "metadata": {},
   "outputs": [
    {
     "data": {
      "text/plain": [
       "<matplotlib.axes._subplots.AxesSubplot at 0x1b200275048>"
      ]
     },
     "execution_count": 37,
     "metadata": {},
     "output_type": "execute_result"
    },
    {
     "data": {
      "image/png": "[encoded data removed]",
      "text/plain": [
       "<matplotlib.figure.Figure at 0x1b20025ad68>"
      ]
     },
     "metadata": {},
     "output_type": "display_data"
    }
   ],
   "source": [
    "npl.plot2d(pos)"
   ]
  },
  {
   "cell_type": "markdown",
   "metadata": {},
   "source": [
    "TuningCurve1D (supports wrapping in smoothing already)\n",
    "TuningCurve2D (supports wrapping in smoothing already)"
   ]
  },
  {
   "cell_type": "code",
   "execution_count": null,
   "metadata": {},
   "outputs": [],
   "source": [
    "PoissonHMM"
   ]
  },
  {
   "cell_type": "code",
   "execution_count": null,
   "metadata": {},
   "outputs": [],
   "source": [
    "IMUSensorArray"
   ]
  },
  {
   "cell_type": "code",
   "execution_count": null,
   "metadata": {},
   "outputs": [],
   "source": [
    "IntervalArray"
   ]
  },
  {
   "cell_type": "markdown",
   "metadata": {},
   "source": [
    "PDF\n",
    "StackedSmoothing (non-time, and time)\n",
    "WrappedSmoothing (non-time, and time)\n",
    "IrregularAnalogSignalArray\n",
    "\n",
    "wrapx --> TuningCurve1D\n",
    "wrapy --> WrappedPositionArray (time), treadmill, wheel\n",
    "wrapxy --> TuningCurve2D for spherical environment\n"
   ]
  }
 ],
 "metadata": {
  "kernelspec": {
   "display_name": "Python 3",
   "language": "python",
   "name": "python3"
  },
  "language_info": {
   "codemirror_mode": {
    "name": "ipython",
    "version": 3
   },
   "file_extension": ".py",
   "mimetype": "text/x-python",
   "name": "python",
   "nbconvert_exporter": "python",
   "pygments_lexer": "ipython3",
   "version": "3.6.4"
  }
 },
 "nbformat": 4,
 "nbformat_minor": 2
}
